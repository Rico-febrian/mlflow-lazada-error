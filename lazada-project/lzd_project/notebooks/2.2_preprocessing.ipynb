{
 "cells": [
  {
   "cell_type": "code",
   "execution_count": 1,
   "metadata": {},
   "outputs": [],
   "source": [
    "import pandas as pd\n",
    "import joblib\n",
    "from sklearn.model_selection import train_test_split\n",
    "from sklearn.feature_extraction.text import TfidfVectorizer"
   ]
  },
  {
   "cell_type": "code",
   "execution_count": 2,
   "metadata": {},
   "outputs": [],
   "source": [
    "# Load the dataset\n",
    "dataset_reviews = pd.read_csv('../data/raw/dataset_reviews.csv')\n",
    "\n",
    "# Select columns rating and review_content only\n",
    "dataset = dataset_reviews[['rating', 'reviewContent']].copy()"
   ]
  },
  {
   "cell_type": "code",
   "execution_count": 3,
   "metadata": {},
   "outputs": [
    {
     "data": {
      "text/plain": [
       "rating           0\n",
       "reviewContent    0\n",
       "dtype: int64"
      ]
     },
     "execution_count": 3,
     "metadata": {},
     "output_type": "execute_result"
    }
   ],
   "source": [
    "# Drop missing values\n",
    "dataset.dropna(inplace=True)\n",
    "\n",
    "# Check the dataset\n",
    "dataset.isnull().sum()"
   ]
  },
  {
   "cell_type": "code",
   "execution_count": 4,
   "metadata": {},
   "outputs": [],
   "source": [
    "# Split the dataset into train, test, serialize, vectorize and serialize again\n",
    "\n",
    "# Splitting the dataset into train and test\n",
    "x_train, x_test, y_train, y_test = train_test_split(\n",
    "    dataset['reviewContent'], dataset['rating'], test_size=0.8\n",
    ")"
   ]
  },
  {
   "cell_type": "code",
   "execution_count": 5,
   "metadata": {},
   "outputs": [],
   "source": [
    "# Serialize the splitted dataset\n",
    "x_train.to_pickle('../data/interim/x_train_1.pkl')\n",
    "x_test.to_pickle('../data/interim/x_test_1.pkl')"
   ]
  },
  {
   "cell_type": "code",
   "execution_count": 6,
   "metadata": {},
   "outputs": [],
   "source": [
    "# Vectorize train and test dataset\n",
    "vectorizer = TfidfVectorizer()\n",
    "x_train_vec = vectorizer.fit_transform(x_train)\n",
    "x_test_vec = vectorizer.transform(x_test)"
   ]
  },
  {
   "cell_type": "code",
   "execution_count": 7,
   "metadata": {},
   "outputs": [],
   "source": [
    "# Serialize the vectorized dataset\n",
    "joblib.dump(vectorizer, '../models/vectorizer_1.pkl')\n",
    "joblib.dump(x_train_vec, '../data/processed/x_train_vec_1.pkl')\n",
    "joblib.dump(x_test_vec, '../data/processed/x_test_vec_1.pkl')\n",
    "y_train.to_pickle('../data/processed/y_train_1.pkl')\n",
    "y_test.to_pickle('../data/processed/y_test_1.pkl') "
   ]
  }
 ],
 "metadata": {
  "kernelspec": {
   "display_name": "venv",
   "language": "python",
   "name": "python3"
  },
  "language_info": {
   "codemirror_mode": {
    "name": "ipython",
    "version": 3
   },
   "file_extension": ".py",
   "mimetype": "text/x-python",
   "name": "python",
   "nbconvert_exporter": "python",
   "pygments_lexer": "ipython3",
   "version": "3.10.12"
  }
 },
 "nbformat": 4,
 "nbformat_minor": 2
}
