{
 "cells": [
  {
   "cell_type": "code",
   "execution_count": 1,
   "metadata": {},
   "outputs": [],
   "source": [
    "import os\n",
    "import urllib3\n",
    "import copy\n",
    "from dotenv import load_dotenv\n",
    "from minio import Minio"
   ]
  },
  {
   "cell_type": "code",
   "execution_count": 2,
   "metadata": {},
   "outputs": [],
   "source": [
    "# Define .env path\n",
    "ENV_PATH = \"../.env\"\n",
    "\n",
    "# Load env file\n",
    "load_dotenv(ENV_PATH)\n",
    "\n",
    "# Disable warnings\n",
    "urllib3.disable_warnings()\n",
    "\n",
    "# Define the env file\n",
    "MINIO_ACCESS_KEY = os.getenv('MINIO_ACCESS_KEY_LZD')\n",
    "MINIO_SECRET_ACCESS_KEY = os.getenv('MINIO_SECRET_ACCESS_KEY_LZD')\n",
    "MINIO_URL = os.getenv('MINIO_URL_LZD')\n",
    "MINIO_BUCKET_NAME = os.getenv('MINIO_BUCKET_NAME_LZD')\n",
    "TLS = os.getenv('MINIO_TLS')"
   ]
  },
  {
   "cell_type": "code",
   "execution_count": 3,
   "metadata": {},
   "outputs": [
    {
     "name": "stdout",
     "output_type": "stream",
     "text": [
      "Fetching data success!\n"
     ]
    }
   ],
   "source": [
    "# Create main function\n",
    "def main():\n",
    "    \"\"\"\n",
    "    This function used to ingest file from minio to local\n",
    "    \n",
    "    \"\"\"\n",
    "\n",
    "    # Create minio instance\n",
    "    client = Minio(\n",
    "            endpoint= MINIO_URL,\n",
    "            access_key=MINIO_ACCESS_KEY,\n",
    "            secret_key=MINIO_SECRET_ACCESS_KEY,\n",
    "            secure=TLS,\n",
    "            cert_check= (not TLS)\n",
    "    )\n",
    "\n",
    "    if(not client.bucket_exists(MINIO_BUCKET_NAME)):\n",
    "        print('Bucket not found!')\n",
    "        return 0\n",
    "    \n",
    "    try:\n",
    "        \n",
    "        object_names = []\n",
    "        \n",
    "        res = client.list_objects(\n",
    "            bucket_name = MINIO_BUCKET_NAME\n",
    "        )\n",
    "        \n",
    "        for obj in res:\n",
    "            object_names.append(obj.object_name)\n",
    "            \n",
    "        object_data = []\n",
    "        \n",
    "        for names in object_names:\n",
    "            res = client.get_object(\n",
    "                bucket_name = MINIO_BUCKET_NAME,\n",
    "                object_name = names\n",
    "            )\n",
    "            \n",
    "            object_data.append(copy.deepcopy(res.data.decode()))\n",
    "            \n",
    "            \n",
    "        with open(\"../data/raw/dataset_items.csv\", 'w') as f:\n",
    "            f.write(object_data[0])\n",
    "\n",
    "        with open(\"../data/raw/dataset_reviews.csv\", 'w') as f:\n",
    "            f.write(object_data[1])\n",
    "\n",
    "        with open(\"../data/raw/categories.txt\", 'w') as f:\n",
    "            f.write(object_data[2])\n",
    "        \n",
    "        print('Fetching data success!')\n",
    "    except Exception as e:\n",
    "        print(str(e))\n",
    "        \n",
    "if __name__ == '__main__':\n",
    "    main()"
   ]
  }
 ],
 "metadata": {
  "kernelspec": {
   "display_name": "venv",
   "language": "python",
   "name": "python3"
  },
  "language_info": {
   "codemirror_mode": {
    "name": "ipython",
    "version": 3
   },
   "file_extension": ".py",
   "mimetype": "text/x-python",
   "name": "python",
   "nbconvert_exporter": "python",
   "pygments_lexer": "ipython3",
   "version": "3.10.12"
  }
 },
 "nbformat": 4,
 "nbformat_minor": 2
}
